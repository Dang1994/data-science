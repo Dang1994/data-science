{
 "cells": [
  {
   "cell_type": "markdown",
   "metadata": {
    "colab_type": "text",
    "id": "0MRC0e0KhQ0S"
   },
   "source": [
    "# Random Forest Classification"
   ]
  },
  {
   "cell_type": "markdown",
   "metadata": {
    "colab_type": "text",
    "id": "LWd1UlMnhT2s"
   },
   "source": [
    "## Importing the libraries"
   ]
  },
  {
   "cell_type": "code",
   "execution_count": 3,
   "metadata": {},
   "outputs": [
    {
     "name": "stdout",
     "output_type": "stream",
     "text": [
      "Fitting 10 folds for each of 100 candidates, totalling 1000 fits\n",
      "Best Parameters: {'bootstrap': True, 'max_depth': 38, 'max_features': 'log2', 'min_samples_leaf': 1, 'min_samples_split': 2, 'n_estimators': 305}\n",
      "Best Cross-Validation Accuracy: 0.9670048309178745\n",
      "\n",
      "Test Set Performance:\n",
      "Accuracy: 0.9529\n",
      "Precision: 0.9688\n",
      "Recall: 0.9118\n",
      "F1-Score: 0.9394\n",
      "ROC-AUC: 0.9971\n",
      "Confusion Matrix:\n",
      " [[50  1]\n",
      " [ 3 31]]\n",
      "\n",
      "Validation Set Performance:\n",
      "Accuracy: 1.0000\n",
      "Precision: 1.0000\n",
      "Recall: 1.0000\n",
      "F1-Score: 1.0000\n",
      "ROC-AUC: 1.0000\n",
      "Confusion Matrix:\n",
      " [[20  0]\n",
      " [ 0  9]]\n"
     ]
    }
   ],
   "source": [
    "# Import necessary libraries\n",
    "import pandas as pd\n",
    "import numpy as np\n",
    "from sklearn.model_selection import train_test_split, RandomizedSearchCV\n",
    "from sklearn.ensemble import RandomForestClassifier\n",
    "from sklearn.preprocessing import LabelEncoder\n",
    "from sklearn.metrics import accuracy_score, precision_score, recall_score, f1_score, roc_auc_score, confusion_matrix\n",
    "from scipy.stats import randint, uniform\n",
    "\n",
    "# Load the dataset\n",
    "data = pd.read_csv('cancer_data.csv')\n",
    "\n",
    "# Step 1: Remove the ID column\n",
    "#data.drop(columns=['ID'], inplace=True)\n",
    "\n",
    "# Step 2: Encode the Diagnosis column (M = 1, B = 0)\n",
    "label_encoder = LabelEncoder()\n",
    "data['diagnosis'] = label_encoder.fit_transform(data['diagnosis'])\n",
    "\n",
    "# Step 3: Choose Diagnosis as the target variable\n",
    "X = data.drop(columns=['diagnosis'])  # Features\n",
    "y = data['diagnosis']  # Target\n",
    "\n",
    "# Step 4: Split the data into train (80%), test (15%), and validation (5%)\n",
    "X_train, X_temp, y_train, y_temp = train_test_split(X, y, test_size=0.2, random_state=42)\n",
    "X_test, X_val, y_test, y_val = train_test_split(X_temp, y_temp, test_size=0.25, random_state=42)  # 0.25 * 20% = 5%\n",
    "\n",
    "# Step 5: Hyperparameter Tuning for Random Forest\n",
    "# Define the parameter distribution for Randomized Search\n",
    "param_dist = {\n",
    "    'n_estimators': randint(50, 500),       # Number of trees in the forest\n",
    "    'max_depth': [None] + list(range(5, 50)),  # Maximum depth of the tree\n",
    "    'min_samples_split': randint(2, 20),   # Minimum samples required to split a node\n",
    "    'min_samples_leaf': randint(1, 20),   # Minimum samples required at a leaf node\n",
    "    'max_features': ['sqrt', 'log2'],      # Number of features to consider at each split\n",
    "    'bootstrap': [True, False]             # Whether to use bootstrap sampling\n",
    "}\n",
    "\n",
    "# Initialize the Random Forest model\n",
    "rf_model = RandomForestClassifier(random_state=42)\n",
    "\n",
    "# Set up Randomized Search with Cross-Validation\n",
    "random_search = RandomizedSearchCV(\n",
    "    estimator=rf_model,              # Base model\n",
    "    param_distributions=param_dist,  # Parameter distribution to sample from\n",
    "    n_iter=100,                      # Number of parameter settings to sample\n",
    "    scoring='accuracy',              # Evaluation metric\n",
    "    cv=10,                          # 10-fold cross-validation\n",
    "    verbose=1,                      # Print progress\n",
    "    n_jobs=-1,                      # Use all available CPU cores\n",
    "    random_state=42                 # Seed for reproducibility\n",
    ")\n",
    "\n",
    "# Fit Randomized Search on the training data\n",
    "random_search.fit(X_train, y_train)\n",
    "\n",
    "# Retrieve the best parameters and best score\n",
    "best_params = random_search.best_params_\n",
    "best_score = random_search.best_score_\n",
    "\n",
    "print(\"Best Parameters:\", best_params)\n",
    "print(\"Best Cross-Validation Accuracy:\", best_score)\n",
    "\n",
    "# Step 6: Train the final model with the best parameters\n",
    "final_model = random_search.best_estimator_\n",
    "final_model.fit(X_train, y_train)\n",
    "\n",
    "# Step 7: Evaluate the model on the test set\n",
    "y_test_pred = final_model.predict(X_test)\n",
    "y_test_pred_prob = final_model.predict_proba(X_test)[:, 1]  # Probabilities for ROC-AUC\n",
    "\n",
    "test_accuracy = accuracy_score(y_test, y_test_pred)\n",
    "test_precision = precision_score(y_test, y_test_pred)\n",
    "test_recall = recall_score(y_test, y_test_pred)\n",
    "test_f1 = f1_score(y_test, y_test_pred)\n",
    "test_roc_auc = roc_auc_score(y_test, y_test_pred_prob)\n",
    "\n",
    "print(\"\\nTest Set Performance:\")\n",
    "print(f\"Accuracy: {test_accuracy:.4f}\")\n",
    "print(f\"Precision: {test_precision:.4f}\")\n",
    "print(f\"Recall: {test_recall:.4f}\")\n",
    "print(f\"F1-Score: {test_f1:.4f}\")\n",
    "print(f\"ROC-AUC: {test_roc_auc:.4f}\")\n",
    "print(\"Confusion Matrix:\\n\", confusion_matrix(y_test, y_test_pred))\n",
    "\n",
    "# Step 8: Predict on the unseen validation set\n",
    "y_val_pred = final_model.predict(X_val)\n",
    "y_val_pred_prob = final_model.predict_proba(X_val)[:, 1]\n",
    "\n",
    "val_accuracy = accuracy_score(y_val, y_val_pred)\n",
    "val_precision = precision_score(y_val, y_val_pred)\n",
    "val_recall = recall_score(y_val, y_val_pred)\n",
    "val_f1 = f1_score(y_val, y_val_pred)\n",
    "val_roc_auc = roc_auc_score(y_val, y_val_pred_prob)\n",
    "\n",
    "print(\"\\nValidation Set Performance:\")\n",
    "print(f\"Accuracy: {val_accuracy:.4f}\")\n",
    "print(f\"Precision: {val_precision:.4f}\")\n",
    "print(f\"Recall: {val_recall:.4f}\")\n",
    "print(f\"F1-Score: {val_f1:.4f}\")\n",
    "print(f\"ROC-AUC: {val_roc_auc:.4f}\")\n",
    "print(\"Confusion Matrix:\\n\", confusion_matrix(y_val, y_val_pred))"
   ]
  },
  {
   "cell_type": "code",
   "execution_count": null,
   "metadata": {},
   "outputs": [],
   "source": []
  }
 ],
 "metadata": {
  "colab": {
   "collapsed_sections": [],
   "machine_shape": "hm",
   "name": "random_forest_classification.ipynb",
   "provenance": [],
   "toc_visible": true
  },
  "kernelspec": {
   "display_name": "Python 3 (ipykernel)",
   "language": "python",
   "name": "python3"
  },
  "language_info": {
   "codemirror_mode": {
    "name": "ipython",
    "version": 3
   },
   "file_extension": ".py",
   "mimetype": "text/x-python",
   "name": "python",
   "nbconvert_exporter": "python",
   "pygments_lexer": "ipython3",
   "version": "3.12.4"
  }
 },
 "nbformat": 4,
 "nbformat_minor": 4
}
